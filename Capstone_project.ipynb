{
  "nbformat": 4,
  "nbformat_minor": 0,
  "metadata": {
    "colab": {
      "name": "Capstone_project.ipynb",
      "provenance": [],
      "collapsed_sections": [],
      "include_colab_link": true
    },
    "kernelspec": {
      "name": "python3",
      "display_name": "Python 3"
    },
    "language_info": {
      "name": "python"
    }
  },
  "cells": [
    {
      "cell_type": "markdown",
      "metadata": {
        "id": "view-in-github",
        "colab_type": "text"
      },
      "source": [
        "<a href=\"https://colab.research.google.com/github/BangkitCapstone-HELPER/ML-path/blob/main/Capstone_project.ipynb\" target=\"_parent\"><img src=\"https://colab.research.google.com/assets/colab-badge.svg\" alt=\"Open In Colab\"/></a>"
      ]
    },
    {
      "cell_type": "markdown",
      "source": [
        "# Data Collecting"
      ],
      "metadata": {
        "id": "uVCSugXnqkeY"
      }
    },
    {
      "cell_type": "markdown",
      "source": [
        "train\n",
        "- 0. omelette = 100 images, 100 labels (.txt) complete\n",
        "- 1. rice = 200 images, 200 label (.txt) complete\n",
        "- 2. tempeh = 200 images, 200 label (.txt) complete\n",
        "- 3. ayam = 40 images, 40 labels (.txt) \n",
        "- 3. tofu = 200 images, 200 label (.txt)\n",
        "- 5. bakwan = 20 images, 20 labels (.txt) complete\n",
        "- 10. capcay = 24 images, 24 labels (.txt) complete\n",
        "- 12. cumi = 32 images, 32 labels (.txt) complete\n",
        "- 17. gudeg = 395 images, 20 labels (.txt)\n",
        "- 18. ikan = 24 images, 24 labels (.txt) complete\n",
        "- 23. kerupuk = 20 images, 20 labels (.txt) complete\n",
        "- rendang = 1745 images\n",
        "\n",
        "test\n",
        "- 0. omelette = 10 images, 10 labels (.txt)\n",
        "- 1. rice = 10 images, 10 labels (.txt) complete\n",
        "- 2. tempeh = 10 images, 10 label (.txt) complete\n",
        "- 3. ayam = 10 images, 10 labels (.txt) complete\n",
        "- 3. tofu = 10 images, 10 label (.txt) complete\n",
        "- 5. bakwan = 6 images, 6 labels (.txt) complete\n",
        "- 10. capcay = 6 images, 6 labels (.txt) complete\n",
        "- 12. cumi = 8 images, 8 labels (.txt) complete\n",
        "- 17. gudeg = 52 images, 5 labels (.txt) \n",
        "- 18. ikan = 6 images, 6 labels (.txt) complete\n",
        "- 23. kerupuk = 3 images, 3 labels (.txt) complete\n",
        "- rendang = 222 images\n",
        "\n",
        "valid\n",
        "- 0. omelette = 20 images, 20 labels (.txt) complete\n",
        "- 1. rice = 10 images, 10 label (.txt) complete\n",
        "- 2. tempeh = 10 images, 10 label (.txt) complete\n",
        "- 3. tofu = 10 images, 10 label (.txt) complete\n",
        "- ayam = \n",
        "- bakwan = \n",
        "- capcay = \n",
        "- cumi =  \n",
        "- 17. gudeg = 47 images\n",
        "- ikan = \n",
        "- kerupuk =\n",
        "- rendang = 218 images"
      ],
      "metadata": {
        "id": "Mz4dxAq9IU3a"
      }
    },
    {
      "cell_type": "markdown",
      "source": [
        "# Data Preprocessing"
      ],
      "metadata": {
        "id": "KY8-9p7VHGrH"
      }
    },
    {
      "cell_type": "markdown",
      "source": [
        "# Modelling"
      ],
      "metadata": {
        "id": "aEJ0vIGjHI3C"
      }
    }
  ]
}