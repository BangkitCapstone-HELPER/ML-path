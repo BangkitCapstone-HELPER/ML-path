{
  "nbformat": 4,
  "nbformat_minor": 0,
  "metadata": {
    "colab": {
      "name": "Capstone_project.ipynb",
      "provenance": [],
      "collapsed_sections": [],
      "include_colab_link": true
    },
    "kernelspec": {
      "name": "python3",
      "display_name": "Python 3"
    },
    "language_info": {
      "name": "python"
    }
  },
  "cells": [
    {
      "cell_type": "markdown",
      "metadata": {
        "id": "view-in-github",
        "colab_type": "text"
      },
      "source": [
        "<a href=\"https://colab.research.google.com/github/BangkitCapstone-HELPER/ML-path/blob/main/Capstone_project.ipynb\" target=\"_parent\"><img src=\"https://colab.research.google.com/assets/colab-badge.svg\" alt=\"Open In Colab\"/></a>"
      ]
    },
    {
      "cell_type": "markdown",
      "source": [
        "# Data Collecting"
      ],
      "metadata": {
        "id": "uVCSugXnqkeY"
      }
    },
    {
      "cell_type": "markdown",
      "source": [
        "train\n",
        "- 0 omelette = 100 images, 100 labels (.txt), complete\n",
        "- 1 rice = 100 images, 100 label (.txt), complete\n",
        "- 2 tempeh = 100 images, 100 label (.txt), complete\n",
        "- 3 ayam = 40 images, 40 labels (.txt), complete\n",
        "- 4 tofu = 100 images, 100 label (.txt), complete\n",
        "- 5 bakwan = 20 images, 20 labels (.txt), complete\n",
        "- 6 capcay = 24 images, 24 labels (.txt), incomplete (label belum diubah)\n",
        "- 7 cumi = 32 images, 32 labels (.txt), incomplete (label belum diubah)\n",
        "- 8 gudeg = 20 images, 20 labels (.txt), incomplete (label belum diubah)\n",
        "- 9 ikan = 24 images, 24 labels (.txt), incomplete (label belum diubah)\n",
        "- 10 kerupuk = 20 images, 20 labels (.txt), incomplete (label belum diubah)\n",
        "- 11 rendang = (bisa ambil di folder image)\n",
        "\n",
        "test\n",
        "- 0 omelette = 10 images, 10 labels (.txt), complete\n",
        "- 1 rice = 10 images, 10 labels (.txt), complete\n",
        "- 2 tempeh = 10 images, 10 label (.txt), complete\n",
        "- 3 ayam = 10 images, 10 labels (.txt), complete\n",
        "- 4 tofu = 10 images, 10 label (.txt), complete\n",
        "- 5 bakwan = 6 images, 6 labels (.txt), complete\n",
        "- 6 capcay = 6 images, 6 labels (.txt), incomplete (label belum diubah)\n",
        "- 7 cumi = 8 images, 8 labels (.txt), incomplete (label belum diubah)\n",
        "- 8 gudeg = 5 images, 5 labels (.txt), incomplete (label belum diubah)\n",
        "- 9 ikan = 6 images, 6 labels (.txt), incomplete (label belum diubah)\n",
        "- 10 kerupuk = 3 images, 3 labels (.txt), incomplete (label belum diubah)\n",
        "- 11 rendang = (bisa ambil di folder image)\n",
        "\n",
        "valid\n",
        "- 0 omelette = 20 images, 20 labels (.txt), complete\n",
        "- 1 rice = 10 images, 10 label (.txt), complete\n",
        "- 2 tempeh = 10 images, 10 label (.txt), complete\n",
        "- 3 ayam = (bisa ambil di folder image)\n",
        "- 4 tofu = 10 images, 10 label (.txt), complete\n",
        "- 5 bakwan = (bisa ambil di folder image)\n",
        "- 6 capcay = (bisa ambil di folder image)\n",
        "- 7 cumi =  (bisa ambil di folder image)\n",
        "- 8 gudeg = (bisa ambil di folder image)\n",
        "- 9 ikan = (bisa ambil di folder image)\n",
        "- 10 kerupuk = complete(bisa ambil di folder image)\n",
        "- 11 rendang = (bisa ambil di folder image)\n",
        "\n",
        "dataset yang ada di image:\n",
        "- 0 omelette = \n",
        "- 1 rice/Nasi = \n",
        "- 2 tempeh = 32 images, 32 images (.txt), complete\n",
        "- 3 ayam = \n",
        "- 4 tofu = 41 images, 41 images (.txt), complete\n",
        "- 5 bakwan = \n",
        "- 6 capcay = 94 images, 94 images (.txt), complete\n",
        "- 7 cumi = \n",
        "- 8 gudeg = 178 images, 178 (.txt) 259 unlabelled, complete\n",
        "- 9 ikan = \n",
        "- 10 kerupuk = 16 images, 16 images (.txt), complete\n",
        "- 11 rendang = 190 images, 190 (.txt) 1.995 unlabelled, complete"
      ],
      "metadata": {
        "id": "Mz4dxAq9IU3a"
      }
    },
    {
      "cell_type": "markdown",
      "source": [
        "# Data Preprocessing"
      ],
      "metadata": {
        "id": "KY8-9p7VHGrH"
      }
    },
    {
      "cell_type": "markdown",
      "source": [
        "# Modelling"
      ],
      "metadata": {
        "id": "aEJ0vIGjHI3C"
      }
    }
  ]
}